{
  "nbformat": 4,
  "nbformat_minor": 0,
  "metadata": {
    "colab": {
      "provenance": []
    },
    "kernelspec": {
      "name": "python3",
      "display_name": "Python 3"
    },
    "language_info": {
      "name": "python"
    }
  },
  "cells": [
    {
      "cell_type": "code",
      "source": [
        "# Tesla\n",
        "import yfinance as yf\n",
        "import requests\n",
        "from bs4 import BeautifulSoup\n",
        "import pandas as pd\n",
        "import plotly.graph_objects as go\n",
        "tesla = yf.Ticker(\"TSLA\")\n",
        "tesla_data = tesla.history(period=\"max\")\n",
        "tesla_data.reset_index(inplace=True)\n",
        "tesla_data.to_csv(\"tesla_data.csv\", index=False)\n",
        "tesla_data.head()\n",
        "url = \"https://cf-courses-data.s3.us.cloud-object-storage.appdomain.cloud/IBMDeveloperSkillsNetwork-PY0220EN-SkillsNetwork/labs/project/revenue.htm\"\n",
        "response = requests.get(url)\n",
        "soup = BeautifulSoup(response.text, 'html.parser')\n",
        "table = soup.find('table')\n",
        "revenue_data = pd.read_html(str(table))[0]\n",
        "print(revenue_data.head())\n",
        "def make_graph(x_data, y_data, title, x_title, y_title):\n",
        "  fig = go.Figure(go.Scatter(x=x_data, y=y_data, mode='lines', name='Tesla Stock Price'))\n",
        "  fig.update_layout(title=title, xaxis_title=x_title, yaxis_title=y_title, template='plotly_dark')\n",
        "  return fig\n",
        "fig = make_graph(tesla_data['Date'], tesla_data['Close'], \"Tesla Stock Closing Price Over Time\", \"Date\", \"Stock Price (USD)\")\n",
        "fig.show()"
      ],
      "metadata": {
        "id": "ldn3BfhD7mlL"
      },
      "execution_count": null,
      "outputs": []
    },
    {
      "cell_type": "code",
      "source": [
        "# GameStop\n",
        "import yfinance as yf\n",
        "import requests\n",
        "from bs4 import BeautifulSoup\n",
        "import pandas as pd\n",
        "gme = yf.Ticker(\"GME\")\n",
        "gme_data = gme.history(period=\"max\")\n",
        "gme_data.reset_index(inplace=True)\n",
        "gme_data.to_csv(\"gme_data.csv\", index=False)\n",
        "gme_data.head()\n",
        "url = \"https://cf-courses-data.s3.us.cloud-object-storage.appdomain.cloud/IBMDeveloperSkillsNetwork-PY0220EN-SkillsNetwork/labs/project/stock.html\"\n",
        "response = requests.get(url)\n",
        "soup = BeautifulSoup(response.text, 'html.parser')\n",
        "table = soup.find('table')\n",
        "revenue_data = pd.read_html(str(table))[0]\n",
        "print(revenue_data.head())\n",
        "def make_graph(x_data, y_data, title, x_title, y_title):\n",
        "  fig = go.Figure(go.Scatter(x=x_data, y=y_data, mode='lines', name='GameStop Stock Price'))\n",
        "  fig.update_layout(title=title, xaxis_title=x_title, yaxis_title=y_title, template='plotly_dark')\n",
        "  return fig\n",
        "fig = make_graph(gme_data['Date'], tesla_data['Close'], \"GameStop Stock Closing Price Over Time\", \"Date\", \"Stock Price (USD)\")\n",
        "fig.show()\n",
        "print(gme_data.head())"
      ],
      "metadata": {
        "colab": {
          "base_uri": "https://localhost:8080/"
        },
        "id": "2fFuZ57j4Flo",
        "outputId": "5113f05c-43c1-41c6-902e-ba341004d53d"
      },
      "execution_count": null,
      "outputs": [
        {
          "output_type": "stream",
          "name": "stdout",
          "text": [
            "   GameStop Annual Revenue (Millions of US $)  \\\n",
            "0                                        2020   \n",
            "1                                        2019   \n",
            "2                                        2018   \n",
            "3                                        2017   \n",
            "4                                        2016   \n",
            "\n",
            "  GameStop Annual Revenue (Millions of US $).1  \n",
            "0                                       $6,466  \n",
            "1                                       $8,285  \n",
            "2                                       $8,547  \n",
            "3                                       $7,965  \n",
            "4                                       $9,364  \n"
          ]
        },
        {
          "output_type": "stream",
          "name": "stderr",
          "text": [
            "<ipython-input-7-a2e09e7c6457>:14: FutureWarning: Passing literal html to 'read_html' is deprecated and will be removed in a future version. To read from a literal string, wrap it in a 'StringIO' object.\n",
            "  revenue_data = pd.read_html(str(table))[0]\n"
          ]
        }
      ]
    }
  ]
}